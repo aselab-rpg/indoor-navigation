{
  "nbformat": 4,
  "nbformat_minor": 0,
  "metadata": {
    "colab": {
      "provenance": []
    },
    "kernelspec": {
      "name": "python3",
      "display_name": "Python 3"
    },
    "language_info": {
      "name": "python"
    }
  },
  "cells": [
    {
      "cell_type": "code",
      "execution_count": null,
      "metadata": {
        "id": "HfR3Y5Qd7sV1"
      },
      "outputs": [],
      "source": [
        "import cv2\n",
        "import os"
      ]
    },
    {
      "cell_type": "code",
      "source": [
        "from PIL import Image\n",
        "# Mount Google Drive\n",
        "from google.colab import drive\n",
        "drive.mount('/content/drive')\n"
      ],
      "metadata": {
        "colab": {
          "base_uri": "https://localhost:8080/"
        },
        "id": "R-RfHYnf8CpX",
        "outputId": "b3dc91a0-19c5-4c4c-9e7b-cc2983eba8e3"
      },
      "execution_count": null,
      "outputs": [
        {
          "output_type": "stream",
          "name": "stdout",
          "text": [
            "Drive already mounted at /content/drive; to attempt to forcibly remount, call drive.mount(\"/content/drive\", force_remount=True).\n"
          ]
        }
      ]
    },
    {
      "cell_type": "code",
      "source": [
        "def count_images(video_path, capture_interval):\n",
        "    # Open the video capture object\n",
        "    cap = cv2.VideoCapture(video_path)\n",
        "\n",
        "    # Check if video capture was successful\n",
        "    if not cap.isOpened():\n",
        "        print(\"Error opening video capture object\")\n",
        "        return\n",
        "\n",
        "    # Get video properties\n",
        "    fps = cap.get(cv2.CAP_PROP_FPS)\n",
        "    total_frames = int(cap.get(cv2.CAP_PROP_FRAME_COUNT))\n",
        "    num_images = int(total_frames / (fps * capture_interval))\n",
        "\n",
        "    # Release resources\n",
        "    cap.release()\n",
        "\n",
        "    return num_images"
      ],
      "metadata": {
        "id": "DCIL-9JF_8Vy"
      },
      "execution_count": null,
      "outputs": []
    },
    {
      "cell_type": "code",
      "source": [
        "def capture_and_resize_images(video_path, save_dir, capture_interval, resize_width=1280, resize_height=720):\n",
        "    # Count number of images\n",
        "    num_images = count_images(video_path, capture_interval)\n",
        "    print(\"Total images to capture and resize:\", num_images)\n",
        "\n",
        "    # Open the video capture object\n",
        "    cap = cv2.VideoCapture(video_path)\n",
        "\n",
        "    # Check if video capture was successful\n",
        "    if not cap.isOpened():\n",
        "        print(\"Error opening video capture object\")\n",
        "        return\n",
        "\n",
        "    try:\n",
        "        # Create the directory if it doesn't exist\n",
        "        if not os.path.exists(save_dir):\n",
        "            os.makedirs(save_dir)\n",
        "    except OSError:\n",
        "        print(\"Error creating directory:\", save_dir)\n",
        "        return  # Exit the program on error\n",
        "\n",
        "    # Get video properties\n",
        "    fps = cap.get(cv2.CAP_PROP_FPS)\n",
        "\n",
        "    # Initialize frame counter\n",
        "    current_frame = 0\n",
        "    captured_images_count = 0\n",
        "\n",
        "    # Loop until all frames are captured and resized\n",
        "    while current_frame < num_images:\n",
        "        # Set the frame position\n",
        "        cap.set(cv2.CAP_PROP_POS_FRAMES, current_frame * fps * capture_interval)\n",
        "\n",
        "        # Read the frame\n",
        "        ret, frame = cap.read()\n",
        "\n",
        "        # Check if the frame is read successfully\n",
        "        if ret:\n",
        "            # Open the original image\n",
        "            im = Image.fromarray(cv2.cvtColor(frame, cv2.COLOR_BGR2RGB))\n",
        "\n",
        "            # Resize the image\n",
        "            im_resized = im.resize((resize_width, resize_height), Image.ANTIALIAS)\n",
        "\n",
        "            # Define output path for resized image\n",
        "            resized_filename = f\"{save_dir}/Person_{current_frame:01d}.png\"\n",
        "\n",
        "            # Save the resized image\n",
        "            im_resized.save(resized_filename, 'PNG')\n",
        "\n",
        "            # Print information\n",
        "            print(f\"Resized image saved: {resized_filename}\")\n",
        "\n",
        "            # Increment captured images count\n",
        "            captured_images_count += 1\n",
        "\n",
        "        # Increase frame counter\n",
        "        current_frame += 1\n",
        "\n",
        "    # Print total captured images count\n",
        "    print(\"Total captured and resized images:\", captured_images_count)\n",
        "\n",
        "    # Release resources\n",
        "    cap.release()\n",
        "    cv2.destroyAllWindows()\n"
      ],
      "metadata": {
        "id": "VvWb2jI08ISy"
      },
      "execution_count": null,
      "outputs": []
    },
    {
      "cell_type": "code",
      "source": [
        "# Define paths\n",
        "video_path = \"/content/drive/MyDrive/Video_Person_Detect.mp4\"\n",
        "save_dir = \"/content/drive/MyDrive/Person_Detect\""
      ],
      "metadata": {
        "id": "6mj9DIoU9b_7"
      },
      "execution_count": null,
      "outputs": []
    },
    {
      "cell_type": "code",
      "source": [
        "# Input capture_interval from user\n",
        "capture_interval = 0.5\n",
        "\n",
        "count_images(video_path, capture_interval)"
      ],
      "metadata": {
        "colab": {
          "base_uri": "https://localhost:8080/"
        },
        "id": "1ed9I2cq3Qed",
        "outputId": "fe90540f-5311-438a-f9cd-2120c97ba83c"
      },
      "execution_count": null,
      "outputs": [
        {
          "output_type": "execute_result",
          "data": {
            "text/plain": [
              "85"
            ]
          },
          "metadata": {},
          "execution_count": 11
        }
      ]
    },
    {
      "cell_type": "code",
      "source": [
        "# Capture images from video and resize them\n",
        "capture_and_resize_images(video_path, save_dir, capture_interval)"
      ],
      "metadata": {
        "colab": {
          "base_uri": "https://localhost:8080/"
        },
        "id": "HfufyMsw9dzc",
        "outputId": "8f2fb410-683a-45d9-9ad3-8f79d9bb9f11"
      },
      "execution_count": null,
      "outputs": [
        {
          "output_type": "stream",
          "name": "stdout",
          "text": [
            "Total images to capture and resize: 85\n"
          ]
        },
        {
          "output_type": "stream",
          "name": "stderr",
          "text": [
            "<ipython-input-5-5e65099e5129>:43: DeprecationWarning: ANTIALIAS is deprecated and will be removed in Pillow 10 (2023-07-01). Use LANCZOS or Resampling.LANCZOS instead.\n",
            "  im_resized = im.resize((resize_width, resize_height), Image.ANTIALIAS)\n"
          ]
        },
        {
          "output_type": "stream",
          "name": "stdout",
          "text": [
            "Resized image saved: /content/drive/MyDrive/Person_Detect/Person_0.png\n",
            "Resized image saved: /content/drive/MyDrive/Person_Detect/Person_1.png\n",
            "Resized image saved: /content/drive/MyDrive/Person_Detect/Person_2.png\n",
            "Resized image saved: /content/drive/MyDrive/Person_Detect/Person_3.png\n",
            "Resized image saved: /content/drive/MyDrive/Person_Detect/Person_4.png\n",
            "Resized image saved: /content/drive/MyDrive/Person_Detect/Person_5.png\n",
            "Resized image saved: /content/drive/MyDrive/Person_Detect/Person_6.png\n",
            "Resized image saved: /content/drive/MyDrive/Person_Detect/Person_7.png\n",
            "Resized image saved: /content/drive/MyDrive/Person_Detect/Person_8.png\n",
            "Resized image saved: /content/drive/MyDrive/Person_Detect/Person_9.png\n",
            "Resized image saved: /content/drive/MyDrive/Person_Detect/Person_10.png\n",
            "Resized image saved: /content/drive/MyDrive/Person_Detect/Person_11.png\n",
            "Resized image saved: /content/drive/MyDrive/Person_Detect/Person_12.png\n",
            "Resized image saved: /content/drive/MyDrive/Person_Detect/Person_13.png\n",
            "Resized image saved: /content/drive/MyDrive/Person_Detect/Person_14.png\n",
            "Resized image saved: /content/drive/MyDrive/Person_Detect/Person_15.png\n",
            "Resized image saved: /content/drive/MyDrive/Person_Detect/Person_16.png\n",
            "Resized image saved: /content/drive/MyDrive/Person_Detect/Person_17.png\n",
            "Resized image saved: /content/drive/MyDrive/Person_Detect/Person_18.png\n",
            "Resized image saved: /content/drive/MyDrive/Person_Detect/Person_19.png\n",
            "Resized image saved: /content/drive/MyDrive/Person_Detect/Person_20.png\n",
            "Resized image saved: /content/drive/MyDrive/Person_Detect/Person_21.png\n",
            "Resized image saved: /content/drive/MyDrive/Person_Detect/Person_22.png\n",
            "Resized image saved: /content/drive/MyDrive/Person_Detect/Person_23.png\n",
            "Resized image saved: /content/drive/MyDrive/Person_Detect/Person_24.png\n",
            "Resized image saved: /content/drive/MyDrive/Person_Detect/Person_25.png\n",
            "Resized image saved: /content/drive/MyDrive/Person_Detect/Person_26.png\n",
            "Resized image saved: /content/drive/MyDrive/Person_Detect/Person_27.png\n",
            "Resized image saved: /content/drive/MyDrive/Person_Detect/Person_28.png\n",
            "Resized image saved: /content/drive/MyDrive/Person_Detect/Person_29.png\n",
            "Resized image saved: /content/drive/MyDrive/Person_Detect/Person_30.png\n",
            "Resized image saved: /content/drive/MyDrive/Person_Detect/Person_31.png\n",
            "Resized image saved: /content/drive/MyDrive/Person_Detect/Person_32.png\n",
            "Resized image saved: /content/drive/MyDrive/Person_Detect/Person_33.png\n",
            "Resized image saved: /content/drive/MyDrive/Person_Detect/Person_34.png\n",
            "Resized image saved: /content/drive/MyDrive/Person_Detect/Person_35.png\n",
            "Resized image saved: /content/drive/MyDrive/Person_Detect/Person_36.png\n",
            "Resized image saved: /content/drive/MyDrive/Person_Detect/Person_37.png\n",
            "Resized image saved: /content/drive/MyDrive/Person_Detect/Person_38.png\n",
            "Resized image saved: /content/drive/MyDrive/Person_Detect/Person_39.png\n",
            "Resized image saved: /content/drive/MyDrive/Person_Detect/Person_40.png\n",
            "Resized image saved: /content/drive/MyDrive/Person_Detect/Person_41.png\n",
            "Resized image saved: /content/drive/MyDrive/Person_Detect/Person_42.png\n",
            "Resized image saved: /content/drive/MyDrive/Person_Detect/Person_43.png\n",
            "Resized image saved: /content/drive/MyDrive/Person_Detect/Person_44.png\n",
            "Resized image saved: /content/drive/MyDrive/Person_Detect/Person_45.png\n",
            "Resized image saved: /content/drive/MyDrive/Person_Detect/Person_46.png\n",
            "Resized image saved: /content/drive/MyDrive/Person_Detect/Person_47.png\n",
            "Resized image saved: /content/drive/MyDrive/Person_Detect/Person_48.png\n",
            "Resized image saved: /content/drive/MyDrive/Person_Detect/Person_49.png\n",
            "Resized image saved: /content/drive/MyDrive/Person_Detect/Person_50.png\n",
            "Resized image saved: /content/drive/MyDrive/Person_Detect/Person_51.png\n",
            "Resized image saved: /content/drive/MyDrive/Person_Detect/Person_52.png\n",
            "Resized image saved: /content/drive/MyDrive/Person_Detect/Person_53.png\n",
            "Resized image saved: /content/drive/MyDrive/Person_Detect/Person_54.png\n",
            "Resized image saved: /content/drive/MyDrive/Person_Detect/Person_55.png\n",
            "Resized image saved: /content/drive/MyDrive/Person_Detect/Person_56.png\n",
            "Resized image saved: /content/drive/MyDrive/Person_Detect/Person_57.png\n",
            "Resized image saved: /content/drive/MyDrive/Person_Detect/Person_58.png\n",
            "Resized image saved: /content/drive/MyDrive/Person_Detect/Person_59.png\n",
            "Resized image saved: /content/drive/MyDrive/Person_Detect/Person_60.png\n",
            "Resized image saved: /content/drive/MyDrive/Person_Detect/Person_61.png\n",
            "Resized image saved: /content/drive/MyDrive/Person_Detect/Person_62.png\n",
            "Resized image saved: /content/drive/MyDrive/Person_Detect/Person_63.png\n",
            "Resized image saved: /content/drive/MyDrive/Person_Detect/Person_64.png\n",
            "Resized image saved: /content/drive/MyDrive/Person_Detect/Person_65.png\n",
            "Resized image saved: /content/drive/MyDrive/Person_Detect/Person_66.png\n",
            "Resized image saved: /content/drive/MyDrive/Person_Detect/Person_67.png\n",
            "Resized image saved: /content/drive/MyDrive/Person_Detect/Person_68.png\n",
            "Resized image saved: /content/drive/MyDrive/Person_Detect/Person_69.png\n",
            "Resized image saved: /content/drive/MyDrive/Person_Detect/Person_70.png\n",
            "Resized image saved: /content/drive/MyDrive/Person_Detect/Person_71.png\n",
            "Resized image saved: /content/drive/MyDrive/Person_Detect/Person_72.png\n",
            "Resized image saved: /content/drive/MyDrive/Person_Detect/Person_73.png\n",
            "Resized image saved: /content/drive/MyDrive/Person_Detect/Person_74.png\n",
            "Resized image saved: /content/drive/MyDrive/Person_Detect/Person_75.png\n",
            "Resized image saved: /content/drive/MyDrive/Person_Detect/Person_76.png\n",
            "Resized image saved: /content/drive/MyDrive/Person_Detect/Person_77.png\n",
            "Resized image saved: /content/drive/MyDrive/Person_Detect/Person_78.png\n",
            "Resized image saved: /content/drive/MyDrive/Person_Detect/Person_79.png\n",
            "Resized image saved: /content/drive/MyDrive/Person_Detect/Person_80.png\n",
            "Resized image saved: /content/drive/MyDrive/Person_Detect/Person_81.png\n",
            "Resized image saved: /content/drive/MyDrive/Person_Detect/Person_82.png\n",
            "Resized image saved: /content/drive/MyDrive/Person_Detect/Person_83.png\n",
            "Resized image saved: /content/drive/MyDrive/Person_Detect/Person_84.png\n",
            "Total captured and resized images: 85\n"
          ]
        }
      ]
    }
  ]
}