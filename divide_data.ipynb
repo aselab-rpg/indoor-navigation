{
  "nbformat": 4,
  "nbformat_minor": 0,
  "metadata": {
    "colab": {
      "provenance": []
    },
    "kernelspec": {
      "name": "python3",
      "display_name": "Python 3"
    },
    "language_info": {
      "name": "python"
    }
  },
  "cells": [
    {
      "cell_type": "code",
      "execution_count": null,
      "metadata": {
        "colab": {
          "base_uri": "https://localhost:8080/"
        },
        "id": "jguPcSWCJiIm",
        "outputId": "689b18dd-0e6d-493f-bbd2-f5cd8b79f3a5"
      },
      "outputs": [
        {
          "output_type": "stream",
          "name": "stdout",
          "text": [
            "Mounted at /content/drive\n"
          ]
        }
      ],
      "source": [
        "from google.colab import drive\n",
        "drive.mount(\"/content/drive\")"
      ]
    },
    {
      "cell_type": "code",
      "source": [
        "import os\n",
        "from PIL import Image\n",
        "import random\n",
        "import shutil"
      ],
      "metadata": {
        "id": "1IOdlIILJrix"
      },
      "execution_count": null,
      "outputs": []
    },
    {
      "cell_type": "code",
      "source": [
        "def dem_so_anh(trong_thu_muc):\n",
        "    # Đường dẫn đến thư mục chứa ảnh\n",
        "    duong_dan = trong_thu_muc\n",
        "\n",
        "    # Định dạng tệp ảnh được hỗ trợ (có thể điều chỉnh theo nhu cầu)\n",
        "    dinh_dang_anh = [\".png\", \".jpg\", \".jpeg\", \".gif\", \".bmp\"]\n",
        "\n",
        "    # Sử dụng os.listdir để lấy danh sách tất cả các tệp trong thư mục\n",
        "    danh_sach_tep = os.listdir(duong_dan)\n",
        "\n",
        "    # Sử dụng list comprehension để lọc ra các tệp ảnh\n",
        "    danh_sach_anh = [tep for tep in danh_sach_tep if any(tep.lower().endswith(dinh_dang) for dinh_dang in dinh_dang_anh)]\n",
        "\n",
        "    # In số lượng ảnh\n",
        "    print(f\"Số lượng ảnh trong thư mục '{duong_dan}': {len(danh_sach_anh)}\")\n",
        "\n",
        "\n",
        "def chia_anh_thanh_train_val(duong_dan_goc, duong_dan_train, duong_dan_val, ty_le=0.75):\n",
        "    # Lấy danh sách tất cả các tệp ảnh\n",
        "    danh_sach_anh = [tep for tep in os.listdir(duong_dan_goc) if tep.lower().endswith((\".png\", \".jpg\", \".jpeg\", \".gif\", \".bmp\"))]\n",
        "\n",
        "    # Tính toán số lượng ảnh cho tập huấn luyện và tập validation dựa trên tỷ lệ\n",
        "    so_luong_anh_train = int(len(danh_sach_anh) * ty_le)\n",
        "    so_luong_anh_val = len(danh_sach_anh) - so_luong_anh_train\n",
        "\n",
        "    # Tạo thư mục \"train\" và \"val\" nếu chúng không tồn tại\n",
        "    os.makedirs(duong_dan_train, exist_ok=True)\n",
        "    os.makedirs(duong_dan_val, exist_ok=True)\n",
        "\n",
        "    # Chọn ngẫu nhiên các tệp ảnh cho tập huấn luyện và di chuyển chúng\n",
        "    anh_train = random.sample(danh_sach_anh, so_luong_anh_train)\n",
        "    for tep in anh_train:\n",
        "        duong_dan_cu = os.path.join(duong_dan_goc, tep)\n",
        "        duong_dan_moi = os.path.join(duong_dan_train, tep)\n",
        "        shutil.copy(duong_dan_cu, duong_dan_moi)\n",
        "\n",
        "    # Di chuyển các tệp còn lại vào thư mục validation\n",
        "    for tep in danh_sach_anh:\n",
        "        if tep not in anh_train:\n",
        "            duong_dan_cu = os.path.join(duong_dan_goc, tep)\n",
        "            duong_dan_moi = os.path.join(duong_dan_val, tep)\n",
        "            shutil.copy(duong_dan_cu, duong_dan_moi)\n"
      ],
      "metadata": {
        "id": "99MaU-mwJsWe"
      },
      "execution_count": null,
      "outputs": []
    },
    {
      "cell_type": "code",
      "source": [
        "dem_so_anh(\"/content/drive/MyDrive/Dataset(1280x720)/Right/Right_cua_hanh_lang_nhin_cheo\")\n"
      ],
      "metadata": {
        "colab": {
          "base_uri": "https://localhost:8080/"
        },
        "id": "TGsoCAoTybUH",
        "outputId": "efa23632-c71d-4e03-b68f-bf56b8bcd9d6"
      },
      "execution_count": null,
      "outputs": [
        {
          "output_type": "stream",
          "name": "stdout",
          "text": [
            "Số lượng ảnh trong thư mục '/content/drive/MyDrive/Dataset(1280x720)/Right/Right_cua_hanh_lang_nhin_cheo': 295\n"
          ]
        }
      ]
    },
    {
      "cell_type": "code",
      "source": [
        "# Thay đổi đường dẫn thư mục gốc và đường dẫn cho thư mục \"train\" và \"val\"\n",
        "duong_dan_goc = \"/content/drive/MyDrive/Dataset(1280x720)/Right/Right_cua_hanh_lang_nhin_cheo\"\n",
        "duong_dan_train = \"/content/drive/MyDrive/Data/train/right\"\n",
        "duong_dan_val = \"/content/drive/MyDrive/Data/val/right\"\n",
        "\n",
        "# Gọi hàm để chia ảnh và di chuyển chúng vào các thư mục tương ứng\n",
        "chia_anh_thanh_train_val(duong_dan_goc, duong_dan_train, duong_dan_val)\n",
        "\n",
        "dem_so_anh(duong_dan_goc)\n",
        "\n",
        "dem_so_anh(duong_dan_train)\n",
        "\n",
        "dem_so_anh(duong_dan_val)"
      ],
      "metadata": {
        "colab": {
          "base_uri": "https://localhost:8080/"
        },
        "id": "iTuR4wE_JvH1",
        "outputId": "fb6a51a6-6dbb-4c57-de7c-1a9efa2eb474"
      },
      "execution_count": null,
      "outputs": [
        {
          "output_type": "stream",
          "name": "stdout",
          "text": [
            "Số lượng ảnh trong thư mục '/content/drive/MyDrive/Dataset(1280x720)/Right/Right_cua_hanh_lang_nhin_cheo': 295\n",
            "Số lượng ảnh trong thư mục '/content/drive/MyDrive/Data/train/right': 2674\n",
            "Số lượng ảnh trong thư mục '/content/drive/MyDrive/Data/val/right': 899\n"
          ]
        }
      ]
    }
  ]
}